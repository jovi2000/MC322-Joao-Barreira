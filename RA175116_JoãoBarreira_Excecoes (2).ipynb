{
 "cells": [
  {
   "cell_type": "markdown",
   "metadata": {},
   "source": [
    "# Exception\n",
    "\n",
    "# Tarefa\n",
    "\n",
    "Planeje um conjunto de exceções a ser usado no jogo que está sendo desenvolvido. Isso envolve criar classes de exceções específicas para controlar falhas do jogo e montar pequenos testes ilustrativos conforme detalhado a seguir.\n",
    "\n",
    "No exemplo a seguir, é criado um cenário de uma divisão inteira em que não é aceita uma divisão por 1, nem uma divisão que não gere um número inteiro. Note que este é um cenário fictício simplificado.\n",
    "\n",
    "Segue abaixo o modelo de como deve ser documentado o plano de exceções. Tudo o que for indicado entre `<...>` indica algo que deve ser substituído pelo indicado. No modelo são colocados exemplos ilustrativos, que serão substituídos pelos do seu projeto."
   ]
  },
  {
   "attachments": {
    "HierarquiaExce%C3%A7%C3%B5es%20%281%29.png": {
     "image/png": "[encoded data removed]"
    }
   },
   "cell_type": "markdown",
   "metadata": {},
   "source": [
    "# Modelo do Plano de Exceções\n",
    "\n",
    "## Diagrama da hierarquia de exceções\n",
    "\n",
    "![HierarquiaExce%C3%A7%C3%B5es%20%281%29.png](attachment:HierarquiaExce%C3%A7%C3%B5es%20%281%29.png)\n",
    "\n",
    "\n",
    "## Descrição das classes de exceção\n",
    "\n",
    "Classe | Descrição\n",
    "----- | -----\n",
    "CompraInvalida | Engloba todas as exceções de compras não aceitas.\n",
    "SaldoNegativo | Indica que o saldo final da compra foi negativo.\n",
    "PosicaoInvalida | Indica que a posição que o player selecionou é inválida.\n",
    "\n",
    "## Testes da Hierarquia de Exceções\n",
    "\n",
    "Monte um código que teste a sua hierarquia exceções (todas elas) conforme o exemplo a seguir."
   ]
  },
  {
   "cell_type": "code",
   "execution_count": 2,
   "metadata": {},
   "outputs": [
    {
     "data": {
      "text/plain": [
       "com.twosigma.beaker.javash.bkrf9aa344d.CompraInvalida"
      ]
     },
     "execution_count": 2,
     "metadata": {},
     "output_type": "execute_result"
    }
   ],
   "source": [
    "public class CompraInvalida extends Exception {\n",
    "    public CompraInvalida() {\n",
    "        super();\n",
    "    }\n",
    "\n",
    "    public CompraInvalida(String message) {\n",
    "        super(message);\n",
    "    }\n",
    "}"
   ]
  },
  {
   "cell_type": "code",
   "execution_count": 3,
   "metadata": {},
   "outputs": [
    {
     "data": {
      "text/plain": [
       "com.twosigma.beaker.javash.bkrf9aa344d.SaldoNegativo"
      ]
     },
     "execution_count": 3,
     "metadata": {},
     "output_type": "execute_result"
    }
   ],
   "source": [
    "public class SaldoNegativo extends CompraInvalida {\n",
    "    public SaldoNegativo() {\n",
    "        super();\n",
    "    }\n",
    "\n",
    "    public SaldoNegativo(String message) {\n",
    "        super(message);\n",
    "    }\n",
    "}"
   ]
  },
  {
   "cell_type": "code",
   "execution_count": 4,
   "metadata": {},
   "outputs": [
    {
     "data": {
      "text/plain": [
       "com.twosigma.beaker.javash.bkrf9aa344d.PosicaoInvalida"
      ]
     },
     "execution_count": 4,
     "metadata": {},
     "output_type": "execute_result"
    }
   ],
   "source": [
    "public class PosicaoInvalida  extends CompraInvalida {\n",
    "    public PosicaoInvalida() {\n",
    "        super();\n",
    "    }\n",
    "\n",
    "    public PosicaoInvalida(String message) {\n",
    "        super(message);\n",
    "    }\n",
    "}"
   ]
  },
  {
   "cell_type": "code",
   "execution_count": 5,
   "metadata": {},
   "outputs": [
    {
     "data": {
      "text/plain": [
       "com.twosigma.beaker.javash.bkrf9aa344d.Teste"
      ]
     },
     "execution_count": 5,
     "metadata": {},
     "output_type": "execute_result"
    }
   ],
   "source": [
    "public class Teste {\n",
    "    public static int compra(int posicao, int preco, int dinheiroAtual)  throws CompraInvalida {\n",
    "        int saldo = dinheiroAtual - preco;\n",
    "        if (saldo < 0) {\n",
    "            throw new SaldoNegativo(\"Você não possui o dinheiro necessário para realizar a compra\");\n",
    "        }\n",
    "        if (posicao > 3 || posicao < 0)\n",
    "            throw new PosicaoInvalida(\"Você está tentando construir/evoluir uma torre em uma posição inválida\");\n",
    "        return saldo;\n",
    "    }\n",
    "}"
   ]
  },
  {
   "cell_type": "code",
   "execution_count": 7,
   "metadata": {},
   "outputs": [
    {
     "name": "stdout",
     "output_type": "stream",
     "text": [
      "=== Primeiro teste\n",
      "Seu saldo atual é: 8\n",
      "=== Segundo teste\n",
      "Você não possui o dinheiro necessário para realizar a compra\n",
      "=== Terceiro teste\n",
      "Você está tentando construir/evoluir uma torre em uma posição inválida\n",
      "=== Quarto teste\n",
      "Ocorreu um erro nao esperado na compra\n",
      "--> Você está tentando construir/evoluir uma torre em uma posição inválida\n"
     ]
    },
    {
     "data": {
      "text/plain": [
       "null"
      ]
     },
     "execution_count": 7,
     "metadata": {},
     "output_type": "execute_result"
    }
   ],
   "source": [
    "// codigo testando a Excecao criada\n",
    "int posicao = 2;\n",
    "int dinheiroAtual = 10;\n",
    "int preco = 2;\n",
    "\n",
    "System.out.println(\"=== Primeiro teste\");\n",
    "\n",
    "// Testando uma compra valida\n",
    "try {\n",
    "    int saldo = Teste.compra(posicao, preco, dinheiroAtual);\n",
    "    System.out.println(\"Seu saldo atual é: \" + saldo);\n",
    "} catch (CompraInvalida erro) {\n",
    "    System.out.println(\"Ocorreu um erro nao esperado na compra\");\n",
    "    System.out.println(erro.getMessage());\n",
    "} catch (Exception erro) {\n",
    "    System.out.println(\"Outro erro: \" + erro.getMessage());\n",
    "}\n",
    "\n",
    "System.out.println(\"=== Segundo teste\");\n",
    "\n",
    "preco = 11;\n",
    "\n",
    "// Testando o saldo negativo\n",
    "try {\n",
    "    int saldo = Teste.compra(posicao, preco, dinheiroAtual);\n",
    "    System.out.println(\"Seu saldo atual é: \" + saldo);\n",
    "} catch (SaldoNegativo erro) {\n",
    "    System.out.println(erro.getMessage());\n",
    "} catch (Exception erro) {\n",
    "    System.out.println(\"Outro erro: \" + erro.getMessage());\n",
    "}\n",
    "\n",
    "System.out.println(\"=== Terceiro teste\");\n",
    "\n",
    "preco = 3;\n",
    "posicao = 4;\n",
    "\n",
    "// Testando a posição invalda\n",
    "try {\n",
    "    int saldo = Teste.compra(posicao, preco, dinheiroAtual);\n",
    "    System.out.println(\"Seu saldo atual é: \" + saldo);\n",
    "} catch (PosicaoInvalida erro) {\n",
    "    System.out.println(erro.getMessage());\n",
    "} catch (Exception erro) {\n",
    "    System.out.println(\"Outro erro: \" + erro.getMessage());\n",
    "}\n",
    "\n",
    "System.out.println(\"=== Quarto teste\");\n",
    "\n",
    "// testando a super classe\n",
    "try {\n",
    "    int saldo = Teste.compra(posicao, preco, dinheiroAtual);\n",
    "    System.out.println(\"Seu saldo atual é: \" + saldo);\n",
    "} catch (CompraInvalida erro) {\n",
    "    System.out.println(\"Ocorreu um erro nao esperado na compra\");\n",
    "    System.out.println(\"--> \" + erro.getMessage());\n",
    "} catch (Exception erro) {\n",
    "    System.out.println(\"Outro erro: \" + erro.getMessage());\n",
    "}"
   ]
  }
 ],
 "metadata": {
  "kernelspec": {
   "display_name": "Java",
   "language": "java",
   "name": "java"
  },
  "language_info": {
   "codemirror_mode": "text/x-java",
   "file_extension": ".java",
   "mimetype": "",
   "name": "Java",
   "nbconverter_exporter": "",
   "version": "1.8.0_121"
  },
  "toc": {
   "base_numbering": 1,
   "nav_menu": {},
   "number_sections": false,
   "sideBar": false,
   "skip_h1_title": false,
   "title_cell": "Table of Contents",
   "title_sidebar": "Contents",
   "toc_cell": false,
   "toc_position": {},
   "toc_section_display": false,
   "toc_window_display": false
  }
 },
 "nbformat": 4,
 "nbformat_minor": 4
}
